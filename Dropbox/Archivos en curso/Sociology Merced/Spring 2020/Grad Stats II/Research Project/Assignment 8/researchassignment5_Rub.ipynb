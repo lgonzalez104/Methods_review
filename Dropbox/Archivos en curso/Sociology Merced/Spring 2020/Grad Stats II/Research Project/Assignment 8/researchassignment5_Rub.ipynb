{
 "cells": [
  {
   "cell_type": "markdown",
   "metadata": {},
   "source": [
    "# Research Assignment 5 \n",
    "\n",
    "\n",
    "[your name] Luis Rubén González Márquez\n",
    "\n",
    "[working title of the project] The policitization of labor protest in the early stages of globalization and pre-war period in El Salvador\n",
    "[date] 04/16/2019"
   ]
  },
  {
   "cell_type": "markdown",
   "metadata": {},
   "source": [
    "### 1. Develop hypotheses that approach a nominal variable in your dataset as a dependent variable (DV). [1 pt]\n",
    "\n",
    "* If your nominal variable has more than two categorical variables, such as political party affiliation categories of -- Democrat, Democratic Socialist, Green, Independent, or Republican -- develop hypotheses that treat being or not being in at least one of the categories as a dichotomous binomial dependent variable (DV).\n",
    "\n",
    "\n",
    "* Even if you are not interested in any categorical outcomes for your research project, still develop an hypothesis for at least one nominal variable in your data as a dependent variable. Thinking about potential influences on that variable could help you see if there are intervening relationships or omitted variable biases in your primary outcome of interest.\n",
    "\n",
    "Do the following when you write your hypothesis:\n",
    "\n",
    "    A. Write a separate hypothesis for each dependent variable (DV) you want to analyze.\n",
    "    \n",
    "    -Hypothesis 1: When labor protest in El Salvador between 1974 and 1981 in El Salvador followed economic demands, then the probability  that at least one of targets of protest was an state agent was higher compared to the abscence of any state agent, controlling for protests not in the working space and the number of participants \n",
    "    \n",
    "    -Hypothesis 2: When labor protest in El Salvador between 1974 and 1981 arouse in the working space, there was a higher probability that it followed at least some political demands over the abscence of any political demand, controlling for the number of participants\n",
    "    \n",
    "    B. For each dependent variable (DV) state the predicted direction of association between your dependent variable DV and independent variables (IVs) in your model. You can predict no relationship if you do not expect a relationship.\n",
    "    -Both hypothesis express a positive association. In Hypothesis 1, we expect a positive likelihood of the presence of a state agents as a target of the labor protest even if it followed economic demands. And in Hypothesis 2, we also expect a postive probability of political demand even even when labor protests were organized in the working space.  \n",
    "    \n",
    "    C. Write a couple sentences about the theoretical reasons (prior knowledge / research) for each of your predictions\n",
    "    Both predictions are counterintuitive: in other scenarios, we would expect that the presence of economic demands is associated with a reduce likelihood of state agents, and also that political demands would be associated negatively with labor protests in the working place. However, the situation in El Salvador between in the late 70's was of a wave of protests highly motivated by 1) the first effects of economic globalization over the role of the state to guarantee economic and social rights; 2) the aftermath of the economic crisis of 1973, and 3) a cycle of repression and political violence that led to the end of an authoritharian government. The labor movement was a protagonist of these transformations. Thus, we test hypothesis to assess the degree of politization of mobilization features where the literature of the labor movements suggests a reduce likelihood: economic demands and protest in the working space.  "
   ]
  },
  {
   "cell_type": "markdown",
   "metadata": {},
   "source": [
    "### 2. Test your hypotheses [3 pts]\n",
    "\n",
    "    A. Create a frequency table for your dependent variable (DV).\n",
    "\n",
    "    B. Estimate an OLS model regressing your dichotomous dependent variable (DV) on your hypothesized independent variables (IVs) and store the results.\n",
    "    \n",
    "    C. Estimate an MLE logistic model regressing your dichotomous dependent variable (DV) on your hypothesized independent variables (IVs) and store the results.\n",
    "    \n",
    "    D. Use esttab to output the coefficients for your OLS and MLE logistic models with html formatting within your Jupyter Notebook.\n",
    "    \n",
    "    E. Use esttab to reoutput your coefficients as odd ratios."
   ]
  },
  {
   "cell_type": "code",
   "execution_count": 67,
   "metadata": {},
   "outputs": [
    {
     "name": "stdout",
     "output_type": "stream",
     "text": [
      "\n",
      "(47 vars, 3,017 obs)\n",
      "\n",
      "id_key    violence  date_qua  wait_tim  party_re  sector    strike    demon     occ_work  occ_mark  land_sei  petition  kidnap    hung_str  pub_stat  arson_va  bomb      occ_town  propogan  rob       type_cla  object    interv1   period\n",
      "year      geograph  date_eve  location  no_prese  source    march     occ_chur  occ_gov   occup_em  arm_atta  pub_gath  sit_in    occ_radi  barricad  pinta     prop_bom  occ_scho  cut_powe  two_way   target    interval  ninterv1\n"
     ]
    }
   ],
   "source": [
    "insheet using \"almeida_data set_protest_1974-1981.csv\", clear\n",
    "ds, varwidth (32)"
   ]
  },
  {
   "cell_type": "code",
   "execution_count": 68,
   "metadata": {},
   "outputs": [],
   "source": [
    "encode sector, gen (sector2)\n",
    "qui keep if inlist(sector2, 3, 4, 6, 7, 8, 9, 13, 15, 16, 17, 18, 19, 24, 25, 28, 29, 34, 37, 39, 42, 43, 44, 45, 46, 47, 50, 51, 53, 54, 60, 61, 62, 64, 65, 66, 67, 68, 69, 72, 73, 74, 75, 76, 77,78, 79, 82, 83, 87, 94, 95, 102, 107, 108, 109, 111, 112, 115, 117, 118, 120, 127, 128, 129, 135, 136, 137, 138, 139, 140, 141, 142, 143, 144, 145, 152, 153, 154, 158, 159, 160, 161, 162)\n",
    "//We exclude all the non labor protest events"
   ]
  },
  {
   "cell_type": "code",
   "execution_count": 69,
   "metadata": {},
   "outputs": [],
   "source": [
    "qui gen nowork_pla=.\n",
    "qui replace nowork_pla if strike=0\n",
    "qui replace nowork_pla if occ_work=0\n",
    "qui replace nowork_pla if occ_work=0\n",
    "qui replace nowork_pla if occup_em=0\n",
    "qui replace nowork_pla if hung_str=0\n",
    "qui replace nowork_pla=1 if nowork_pla==.\n",
    "//Then we generate a dummy variable for labor protest not in the working places"
   ]
  },
  {
   "cell_type": "code",
   "execution_count": 70,
   "metadata": {},
   "outputs": [],
   "source": [
    "qui gen work_pla=.\n",
    "qui replace work_pla if strike=1\n",
    "qui replace work_pla if occ_work=1\n",
    "qui replace work_pla if occ_work=1\n",
    "qui replace work_pla if occup_em=1\n",
    "qui replace work_pla if hung_str=1\n",
    "qui replace work_pla=0 if work_pla==.\n",
    "//Then we generate a dummy variable for labor protest not in the working places"
   ]
  },
  {
   "cell_type": "code",
   "execution_count": 71,
   "metadata": {},
   "outputs": [],
   "source": [
    "encode type_cla, gen (type_cla2)\n",
    "qui drop if type_cla2==.\n",
    "qui gen econ_cla=.\n",
    "qui replace econ_cla=1 if type_cla2==1\n",
    "qui replace econ_cla=1 if type_cla2==2\n",
    "qui replace econ_cla=1 if type_cla2>=5 & type_cla2 <=7\n",
    "qui replace econ_cla=0 if econ_cla==.\n",
    "//We create a dummy variable for all protests that contain an economic claim component (even when combined with other)"
   ]
  },
  {
   "cell_type": "code",
   "execution_count": 72,
   "metadata": {},
   "outputs": [],
   "source": [
    "qui gen pol_cla=.\n",
    "qui replace pol_cla=1 if type_cla2==2\n",
    "qui replace pol_cla=1 if type_cla2>=4 & type_cla2 <=6\n",
    "qui replace pol_cla=1 if type_cla2==8\n",
    "qui replace pol_cla=0 if pol_cla==.\n",
    "//Create a dummy variable for political claims"
   ]
  },
  {
   "cell_type": "code",
   "execution_count": 73,
   "metadata": {},
   "outputs": [],
   "source": [
    "encode target, gen (target2)\n",
    "qui drop if target2==.\n",
    "qui gen pol_targ=.\n",
    "qui replace pol_targ=1 if target2==2 & 4 & 5 & 6 & 7 & 8 & 11 & 12 & 13 & 14\n",
    "qui replace pol_targ=1 if target2>=4 & target2 <=8\n",
    "qui replace pol_targ=1 if target2>=11 & target2 <=14\n",
    "qui replace pol_targ=0 if pol_targ==.\n",
    "keep pol_targ econ_cla pol_cla nowork_pla work_pla no_prese\n",
    "//We create another dummy variable for protests with a state institution or actor as a target"
   ]
  },
  {
   "cell_type": "code",
   "execution_count": 74,
   "metadata": {},
   "outputs": [],
   "source": [
    "encode no_prese,gen (no_prese2)\n",
    "//We turn number of present into a numeric variable"
   ]
  },
  {
   "cell_type": "code",
   "execution_count": 75,
   "metadata": {},
   "outputs": [
    {
     "name": "stdout",
     "output_type": "stream",
     "text": [
      "\n",
      "\n",
      "   work_pla |      Freq.     Percent        Cum.\n",
      "------------+-----------------------------------\n",
      "          0 |        120       38.71       38.71\n",
      "          1 |        190       61.29      100.00\n",
      "------------+-----------------------------------\n",
      "      Total |        310      100.00\n",
      "\n",
      "\n",
      "   econ_cla |      Freq.     Percent        Cum.\n",
      "------------+-----------------------------------\n",
      "          0 |        108       34.84       34.84\n",
      "          1 |        202       65.16      100.00\n",
      "------------+-----------------------------------\n",
      "      Total |        310      100.00\n",
      "\n",
      "\n",
      "    pol_cla |      Freq.     Percent        Cum.\n",
      "------------+-----------------------------------\n",
      "          0 |        183       59.03       59.03\n",
      "          1 |        127       40.97      100.00\n",
      "------------+-----------------------------------\n",
      "      Total |        310      100.00\n",
      "\n",
      "\n",
      "   pol_targ |      Freq.     Percent        Cum.\n",
      "------------+-----------------------------------\n",
      "          0 |        110       35.48       35.48\n",
      "          1 |        200       64.52      100.00\n",
      "------------+-----------------------------------\n",
      "      Total |        310      100.00\n",
      "\n",
      "\n",
      "   NO_PRESE |      Freq.     Percent        Cum.\n",
      "------------+-----------------------------------\n",
      "   1,000.00 |         12        3.87        3.87\n",
      "   1,500.00 |          2        0.65        4.52\n",
      "  10,000.00 |          1        0.32        4.84\n",
      "      10.00 |         55       17.74       22.58\n",
      "     100.00 |         17        5.48       28.06\n",
      "  15,000.00 |          7        2.26       30.32\n",
      "      15.00 |          1        0.32       30.65\n",
      "     150.00 |          2        0.65       31.29\n",
      "     154.00 |          1        0.32       31.61\n",
      "     175.00 |          1        0.32       31.94\n",
      "  18,000.00 |          3        0.97       32.90\n",
      "   2,000.00 |          1        0.32       33.23\n",
      "   2,500.00 |          2        0.65       33.87\n",
      "  20,000.00 |          6        1.94       35.81\n",
      "      20.00 |          2        0.65       36.45\n",
      "     200.00 |          5        1.61       38.06\n",
      "     205.00 |          1        0.32       38.39\n",
      "      25.00 |         19        6.13       44.52\n",
      "     250.00 |          1        0.32       44.84\n",
      "   3,000.00 |          1        0.32       45.16\n",
      "  30,000.00 |          3        0.97       46.13\n",
      "     325.00 |          1        0.32       46.45\n",
      "      40.00 |          1        0.32       46.77\n",
      "     400.00 |          1        0.32       47.10\n",
      "   5,000.00 |          8        2.58       49.68\n",
      "       5.00 |         20        6.45       56.13\n",
      "  50,000.00 |          2        0.65       56.77\n",
      "      50.00 |        120       38.71       95.48\n",
      "     500.00 |         10        3.23       98.71\n",
      "      55.00 |          1        0.32       99.03\n",
      "      70.00 |          1        0.32       99.35\n",
      "     750.00 |          1        0.32       99.68\n",
      "       9.00 |          1        0.32      100.00\n",
      "------------+-----------------------------------\n",
      "      Total |        310      100.00\n"
     ]
    }
   ],
   "source": [
    "tab work_pla, m\n",
    "tab econ_cla, m\n",
    "tab pol_cla, m\n",
    "tab pol_targ, m\n",
    "tab no_prese2"
   ]
  },
  {
   "cell_type": "code",
   "execution_count": 85,
   "metadata": {},
   "outputs": [],
   "source": [
    "est clear\n",
    "quietly eststo: regress pol_targ econ_cla, ro\n",
    "quietly eststo: regress pol_targ econ_cla nowork_pla no_prese2, ro\n",
    "qui eststo: logit pol_targ econ_cla, ro\n",
    "qui eststo: logit pol_targ econ_cla nowork_pla no_prese2, ro\n",
    "*We ran the regression: Models 1 and 2 regression (without and with controls), and Models 3 and 4 MLE (without and with controls)"
   ]
  },
  {
   "cell_type": "code",
   "execution_count": 86,
   "metadata": {},
   "outputs": [
    {
     "data": {
      "text/html": [
       "\n",
       "<table border=\"0\" width=\"*\">\n",
       "<caption>unexpontiated coefficients Hy 1</caption>\n",
       "<tr><td colspan=9><hr></td></tr>\n",
       "<tr><td>            </td><td>         (1)</td><td>   </td><td>         (2)</td><td>   </td><td>         (3)</td><td>   </td><td>         (4)</td><td>   </td></tr>\n",
       "<tr><td>            </td><td>     Model 1</td><td>   </td><td>     Model 2</td><td>   </td><td>     Model 3</td><td>   </td><td>     Model 4</td><td>   </td></tr>\n",
       "<tr><td colspan=9><hr></td></tr>\n",
       "<tr><td>main        </td><td>            </td><td>   </td><td>            </td><td>   </td><td>            </td><td>   </td><td>            </td><td>   </td></tr>\n",
       "<tr><td>econ_cla    </td><td>       -0.39</td><td>***</td><td>       -0.47</td><td>***</td><td>       -2.14</td><td>***</td><td>       -3.39</td><td>***</td></tr>\n",
       "<tr><td>            </td><td>      (0.05)</td><td>   </td><td>      (0.04)</td><td>   </td><td>      (0.35)</td><td>   </td><td>      (0.48)</td><td>   </td></tr>\n",
       "<tr><td>nowork_pla  </td><td>            </td><td>   </td><td>        0.35</td><td>***</td><td>            </td><td>   </td><td>        2.60</td><td>***</td></tr>\n",
       "<tr><td>            </td><td>            </td><td>   </td><td>      (0.05)</td><td>   </td><td>            </td><td>   </td><td>      (0.49)</td><td>   </td></tr>\n",
       "<tr><td>no_prese2   </td><td>            </td><td>   </td><td>       -0.01</td><td>***</td><td>            </td><td>   </td><td>       -0.11</td><td>***</td></tr>\n",
       "<tr><td>            </td><td>            </td><td>   </td><td>      (0.00)</td><td>   </td><td>            </td><td>   </td><td>      (0.02)</td><td>   </td></tr>\n",
       "<tr><td colspan=9><hr></td></tr>\n",
       "<tr><td><i>N</i>    </td><td>         310</td><td>   </td><td>         310</td><td>   </td><td>         310</td><td>   </td><td>         310</td><td>   </td></tr>\n",
       "<tr><td colspan=9><hr></td></tr>\n",
       "<tr><td colspan=9>\n",
       "^ p<.1, * p<.05, ** p<.01, *** p<.001\n",
       "</td></tr>\n",
       "</table>\n",
       "\n"
      ],
      "text/plain": [
       "This front-end or document format cannot display HTML"
      ]
     },
     "metadata": {},
     "output_type": "display_data"
    }
   ],
   "source": [
    "%html\n",
    "esttab ///\n",
    ", cells(b(star fmt(2)) se(fmt(2) par)) stardetach  ///\n",
    "\tlegend starlevels(^ .1 * .05 ** .01 *** .001) html ///\n",
    "mlabels(\"Model 1\" \"Model 2\" \"Model 3\" \"Model 4\") title(\"unexpontiated coefficients Hy 1\") ///\n",
    "collabels(none) keep(econ_cla nowork_pla no_prese2)"
   ]
  },
  {
   "cell_type": "code",
   "execution_count": 87,
   "metadata": {},
   "outputs": [
    {
     "data": {
      "text/html": [
       "\n",
       "<table border=\"0\" width=\"*\">\n",
       "<caption>Odd ratios Hy 1</caption>\n",
       "<tr><td colspan=9><hr></td></tr>\n",
       "<tr><td>            </td><td>         (1)</td><td>   </td><td>         (2)</td><td>   </td><td>         (3)</td><td>   </td><td>         (4)</td><td>   </td></tr>\n",
       "<tr><td>            </td><td>     Model 1</td><td>   </td><td>     Model 2</td><td>   </td><td>     Model 3</td><td>   </td><td>     Model 4</td><td>   </td></tr>\n",
       "<tr><td colspan=9><hr></td></tr>\n",
       "<tr><td>main        </td><td>            </td><td>   </td><td>            </td><td>   </td><td>            </td><td>   </td><td>            </td><td>   </td></tr>\n",
       "<tr><td>econ_cla    </td><td>        0.68</td><td>***</td><td>        0.62</td><td>***</td><td>        0.12</td><td>***</td><td>        0.03</td><td>***</td></tr>\n",
       "<tr><td>            </td><td>      (0.03)</td><td>   </td><td>      (0.03)</td><td>   </td><td>      (0.04)</td><td>   </td><td>      (0.02)</td><td>   </td></tr>\n",
       "<tr><td>nowork_pla  </td><td>            </td><td>   </td><td>        1.42</td><td>***</td><td>            </td><td>   </td><td>       13.41</td><td>***</td></tr>\n",
       "<tr><td>            </td><td>            </td><td>   </td><td>      (0.07)</td><td>   </td><td>            </td><td>   </td><td>      (6.63)</td><td>   </td></tr>\n",
       "<tr><td>no_prese2   </td><td>            </td><td>   </td><td>        0.99</td><td>***</td><td>            </td><td>   </td><td>        0.90</td><td>***</td></tr>\n",
       "<tr><td>            </td><td>            </td><td>   </td><td>      (0.00)</td><td>   </td><td>            </td><td>   </td><td>      (0.02)</td><td>   </td></tr>\n",
       "<tr><td colspan=9><hr></td></tr>\n",
       "<tr><td><i>N</i>    </td><td>         310</td><td>   </td><td>         310</td><td>   </td><td>         310</td><td>   </td><td>         310</td><td>   </td></tr>\n",
       "<tr><td colspan=9><hr></td></tr>\n",
       "<tr><td colspan=9>\n",
       "Exponentiated coefficients\n",
       "<br />^ p<.1, * p<.05, ** p<.01, *** p<.001\n",
       "</td></tr>\n",
       "</table>\n",
       "\n"
      ],
      "text/plain": [
       "This front-end or document format cannot display HTML"
      ]
     },
     "metadata": {},
     "output_type": "display_data"
    }
   ],
   "source": [
    " %html\n",
    "\n",
    "esttab ///\n",
    ", cells(b(star fmt(2)) se(fmt(2) par)) stardetach  ///\n",
    "\tlegend starlevels(^ .1 * .05 ** .01 *** .001) html ///\n",
    "mlabels(\"Model 1\" \"Model 2\" \"Model 3\" \"Model 4\") title(\"Odd ratios Hy 1\") ///\n",
    "collabels(none) keep(econ_cla nowork_pla no_prese2) eform"
   ]
  },
  {
   "cell_type": "code",
   "execution_count": 79,
   "metadata": {},
   "outputs": [],
   "source": [
    "est clear\n",
    "qui eststo: regress pol_cla work_pla, ro\n",
    "qui eststo: regress pol_cla work_pla no_prese2, ro\n",
    "qui eststo: logit pol_cla work_pla, ro\n",
    "qui eststo: logit pol_cla work_pla no_prese2, ro\n",
    "//We ran the regression: Models 1 and 2 regression (without and with controls), and Models 3 and 4 MLE (without and with controls)"
   ]
  },
  {
   "cell_type": "code",
   "execution_count": 80,
   "metadata": {},
   "outputs": [
    {
     "data": {
      "text/html": [
       "\n",
       "<table border=\"0\" width=\"*\">\n",
       "<caption>unexpontiated coefficients Hy 2</caption>\n",
       "<tr><td colspan=9><hr></td></tr>\n",
       "<tr><td>            </td><td>         (1)</td><td>   </td><td>         (2)</td><td>   </td><td>         (3)</td><td>   </td><td>         (4)</td><td>   </td></tr>\n",
       "<tr><td>            </td><td>     Model 1</td><td>   </td><td>     Model 2</td><td>   </td><td>     Model 3</td><td>   </td><td>     Model 4</td><td>   </td></tr>\n",
       "<tr><td colspan=9><hr></td></tr>\n",
       "<tr><td>main        </td><td>            </td><td>   </td><td>            </td><td>   </td><td>            </td><td>   </td><td>            </td><td>   </td></tr>\n",
       "<tr><td>work_pla    </td><td>        0.08</td><td>   </td><td>        0.03</td><td>   </td><td>        0.35</td><td>   </td><td>        0.13</td><td>   </td></tr>\n",
       "<tr><td>            </td><td>      (0.06)</td><td>   </td><td>      (0.07)</td><td>   </td><td>      (0.24)</td><td>   </td><td>      (0.27)</td><td>   </td></tr>\n",
       "<tr><td>no_prese2   </td><td>            </td><td>   </td><td>        0.01</td><td>^  </td><td>            </td><td>   </td><td>        0.02</td><td>^  </td></tr>\n",
       "<tr><td>            </td><td>            </td><td>   </td><td>      (0.00)</td><td>   </td><td>            </td><td>   </td><td>      (0.01)</td><td>   </td></tr>\n",
       "<tr><td colspan=9><hr></td></tr>\n",
       "<tr><td><i>N</i>    </td><td>         310</td><td>   </td><td>         310</td><td>   </td><td>         310</td><td>   </td><td>         310</td><td>   </td></tr>\n",
       "<tr><td colspan=9><hr></td></tr>\n",
       "<tr><td colspan=9>\n",
       "^ p<.1, * p<.05, ** p<.01, *** p<.001\n",
       "</td></tr>\n",
       "</table>\n",
       "\n"
      ],
      "text/plain": [
       "This front-end or document format cannot display HTML"
      ]
     },
     "metadata": {},
     "output_type": "display_data"
    }
   ],
   "source": [
    " %html\n",
    "\n",
    "esttab ///\n",
    ", cells(b(star fmt(2)) se(fmt(2) par)) stardetach  ///\n",
    "        legend starlevels(^ .1 * .05 ** .01 *** .001) html ///\n",
    "mlabels(\"Model 1\" \"Model 2\" \"Model 3\" \"Model 4\") title(\"unexpontiated coefficients Hy 2\") ///\n",
    "collabels(none) keep(work_pla no_prese2)"
   ]
  },
  {
   "cell_type": "code",
   "execution_count": 81,
   "metadata": {},
   "outputs": [
    {
     "data": {
      "text/html": [
       "\n",
       "<table border=\"0\" width=\"*\">\n",
       "<caption>Odd ratios Hy 2</caption>\n",
       "<tr><td colspan=9><hr></td></tr>\n",
       "<tr><td>            </td><td>         (1)</td><td>   </td><td>         (2)</td><td>   </td><td>         (3)</td><td>   </td><td>         (4)</td><td>   </td></tr>\n",
       "<tr><td>            </td><td>     Model 1</td><td>   </td><td>     Model 2</td><td>   </td><td>     Model 3</td><td>   </td><td>     Model 4</td><td>   </td></tr>\n",
       "<tr><td colspan=9><hr></td></tr>\n",
       "<tr><td>main        </td><td>            </td><td>   </td><td>            </td><td>   </td><td>            </td><td>   </td><td>            </td><td>   </td></tr>\n",
       "<tr><td>work_pla    </td><td>        1.09</td><td>   </td><td>        1.03</td><td>   </td><td>        1.42</td><td>   </td><td>        1.14</td><td>   </td></tr>\n",
       "<tr><td>            </td><td>      (0.06)</td><td>   </td><td>      (0.07)</td><td>   </td><td>      (0.34)</td><td>   </td><td>      (0.31)</td><td>   </td></tr>\n",
       "<tr><td>no_prese2   </td><td>            </td><td>   </td><td>        1.01</td><td>^  </td><td>            </td><td>   </td><td>        1.02</td><td>^  </td></tr>\n",
       "<tr><td>            </td><td>            </td><td>   </td><td>      (0.00)</td><td>   </td><td>            </td><td>   </td><td>      (0.01)</td><td>   </td></tr>\n",
       "<tr><td colspan=9><hr></td></tr>\n",
       "<tr><td><i>N</i>    </td><td>         310</td><td>   </td><td>         310</td><td>   </td><td>         310</td><td>   </td><td>         310</td><td>   </td></tr>\n",
       "<tr><td colspan=9><hr></td></tr>\n",
       "<tr><td colspan=9>\n",
       "Exponentiated coefficients\n",
       "<br />^ p<.1, * p<.05, ** p<.01, *** p<.001\n",
       "</td></tr>\n",
       "</table>\n",
       "\n"
      ],
      "text/plain": [
       "This front-end or document format cannot display HTML"
      ]
     },
     "metadata": {},
     "output_type": "display_data"
    }
   ],
   "source": [
    " %html\n",
    "\n",
    "esttab ///\n",
    ", cells(b(star fmt(2)) se(fmt(2) par)) stardetach  ///\n",
    "\tlegend starlevels(^ .1 * .05 ** .01 *** .001) html ///\n",
    "mlabels(\"Model 1\" \"Model 2\" \"Model 3\" \"Model 4\") title(\"Odd ratios Hy 2\") ///\n",
    "collabels(none) keep(work_pla no_prese2) eform"
   ]
  },
  {
   "cell_type": "markdown",
   "metadata": {},
   "source": [
    "### 3. Interpret your results [1 pt]\n",
    "\n",
    "Write a couple sentences answering each of the following questions:\n",
    "\n",
    "    A. How would you interpret the relationship between your dependent variable(s) (DVs) and independent variables (IVs) based on the odds ratios for you MLE logistic model?\n",
    "    In the case of the first hypothesis, labor protest’s economic claims in El Salvador during the seventies are associated with a 0.03 log odd that the target is not an state agent (since the unexponentiated coefficient is negative), controlling  for mobilization out of the workplace and the number of participants, at the 0.001 percent level of confidence. In the second hypothesis, the results are not statisticaly significant even at the 10% level of confidence (They indicate a 1.14 log odd of introducing at least a political demand in labor net the number of participants). \n",
    "\n",
    "    B. Do the overall estimates support or contradict your hypotheses? Why?\n",
    "    The evidence of the models does not support our hypothesis, and on the contrary suggests the need to further explore an alternative hypotheses around the continuation of capital and labor conflict in the country amid (and perhaps also in interaction) with the political crisis, specially labor mobilization, either directed to state agents or economic agents, and in or out of the workplace.  \n",
    "    \n",
    "    C. Is there anything suprising in your model estimates? Why?\n",
    "    The evidence contradicts determined literature about social movements and even of revolutionary movements that pointos to the State and politics at the center of analysis (Skocpol but certain Marxist Leninist viewpoints too). It invites to reconsider the exagerated relevance given to political factors or political orientations of the Salvadoran Labor Movement prior to the Civil War. Thus, encourages to explore the links between social conditions, work-based conflict and labor mobilization, and to reconsider the weight given to a context of policitization and maybe even repression (the main focus of our MA thesis).\n",
    "    \n",
    "    D. How do the OLS coefficients and their standard errors compare to the MLE estimates? Are the coefficients and standard errors larger or smaller? \n",
    "    The coefficients between OLS and MLE in most of the cases are very different. In hypothesis 1 and 2 the non exponentiated model coefficients and errors are bigger in Maximum Likelihood estimates, with the exception of number of participants in hypothesis 2 (very similar). While in hypothesis 1,  when exponentiated, the coefficients are smaller in MLE while errors are similar, with the exception of protest in non working placement (error and coefficient are bigger in MLE). In hypothesis 2, the exponentiated coefficients of MLE are slightly bigger while errors are considerable bigger, again with number of participants (very similar between OLS and MLE). "
   ]
  }
 ],
 "metadata": {
  "kernelspec": {
   "display_name": "Stata",
   "language": "stata",
   "name": "stata"
  },
  "language_info": {
   "codemirror_mode": "stata",
   "file_extension": ".do",
   "mimetype": "text/x-stata",
   "name": "stata",
   "version": "15.1"
  }
 },
 "nbformat": 4,
 "nbformat_minor": 4
}
