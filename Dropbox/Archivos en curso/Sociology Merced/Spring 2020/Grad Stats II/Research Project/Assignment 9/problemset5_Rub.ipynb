{
 "cells": [
  {
   "cell_type": "markdown",
   "metadata": {},
   "source": [
    "# Problem Set 5 \n",
    "\n",
    "[your name] Luis Rubén González Márquez\n",
    "\n",
    "[working title of the project] Repression and politization of protest in Latin America under neoliberal poliarchies\n",
    "\n",
    "[date] 04/22/2020"
   ]
  },
  {
   "cell_type": "markdown",
   "metadata": {},
   "source": [
    "### 1. Develop hypotheses involving a muli-item scale as either a dependent variable (DV) or independent variable (IV) [1 pt]\n",
    "\n",
    "Do the following when you write your hypothesis:\n",
    "\n",
    "    A. Write a couple sentences about the theoretical reasons (prior knowledge / research) for why you think that multiple dependent or independent variables of interest are correlated with eachother in one or more groupings\n",
    "    **For our multiscale, we are proposing an Independent Variable called Politization of conflict events in Latin America. The consideration of what is political or what is not comes from an expanded understanding that includes not only the goals; it also includes the means employed. Thus, in the variables of the scale we include the political issues of the conflict from the dataset's register of the first, second and third issues. In addition, another variables is if this conflict was directed was directed to the local or regional government, or central government. We also inclyde the types of mobilization since some of them were political by definition (as intra, extra, inter or anti governmental), and if the conflic escalated into political pne (the same categories as with type). The logic of the scale is that the more political elements either of means and goals, the more politicized a conflict is. \n",
    "    \n",
    "    \n",
    "    B. Tell us a 1-word variable name that you will assign to each multi-item scale that you think could well represent your potentially correlated variables. The 1-word variable names should reflect your theory in response to prompt A above.\n",
    "   *pol_conf\n",
    "    \n",
    "    C. State the predicted direction of association between your dependent variable DV (multi-item scales or otherwise) and independent variables (IVs) (multi-item scales or otherwise) in your proposed model. You can predict no relationship if you do not expect a relationship.\n",
    "    **If collective conflicts increased its politization in Latin America under neoliberal poliarchies, then there is an increase in the likelihood of a repressive response from the state    "
   ]
  },
  {
   "cell_type": "markdown",
   "metadata": {},
   "source": [
    "### 2. Estimate a correlation matrix [1 pt]\n",
    "\n",
    "    A. The matrix should include at least 4 independent or dependent variables (but not both) that you want to include in your multi-item scales\n",
    "    Depenendent variable: repression\n",
    "    Independent variable: scale of politization of conflict, comprised of\n",
    "    -Politization of issues (at least one political issue between the there possibles)\n",
    "    -Political of types of conflict\n",
    "    -Political escalation of conflict\n",
    "    -Government institutions as target of conflict (either local-regional or central, or both)\n",
    "    \n",
    "    \n",
    "    B. Make a list in this markdown cell that categorizes each potential correlation as strong or weak\n",
    "    Politization of issue and political type. Negative\n",
    "\n",
    "Politization of issue and political escalation. Weak\n",
    "\n",
    "Politization of issue and government target. Strong\n",
    "\n",
    "Political type and political escalation. Negative\n",
    "\n",
    "Political type and government target. Negative\n",
    "\n",
    "Political escalation and government target. Weak\n",
    "    \n",
    "    C. Standardize the 4 variables so that they are all positively correlated\n",
    "    * The 4 variables of the scale were standardized so moving from 1 to 2 implies moving from unpolitical to politization"
   ]
  },
  {
   "cell_type": "code",
   "execution_count": 1,
   "metadata": {},
   "outputs": [
    {
     "name": "stdout",
     "output_type": "stream",
     "text": [
      "\n",
      "(44 vars, 5,602 obs)\n",
      "\n"
     ]
    }
   ],
   "source": [
    "insheet using SCAD2018LatinAmerica_Final.csv, clear\n",
    "qui keep repress issue1 issue2 issue3 cgovtarget rgovtarget escalation etype"
   ]
  },
  {
   "cell_type": "code",
   "execution_count": 2,
   "metadata": {},
   "outputs": [],
   "source": [
    "%set graph_format svg"
   ]
  },
  {
   "cell_type": "code",
   "execution_count": 3,
   "metadata": {},
   "outputs": [
    {
     "name": "stdout",
     "output_type": "stream",
     "text": [
      "\n",
      "(5201 differences between issue1 and polissue1)\n",
      "(751 differences between issue2 and polissue2)\n",
      "(70 differences between issue3 and polissue3)\n",
      "\n",
      "(464 differences between escalation and polescalation)\n",
      "(5602 differences between etype and poletype)\n"
     ]
    }
   ],
   "source": [
    "foreach var in issue1 issue2 issue3 {\n",
    "    recode `var' (1=1) (2=0) (3=0) (4=0) (5=0) (6=0) (7=0) (8=1) (9=1) (10=1) (11=1) (12=0) (13=0) (14=0), gen(pol`var')\n",
    "}\n",
    "\n",
    "foreach var in escalation etype {\n",
    "    recode `var' (1=0) (2=0) (3=0) (4=0) (5=0) (6=0) (7=1) (8=1) (9=1) (10=1) , gen(pol`var')\n",
    "}\n",
    "*The variables of the scale are standardize following this logic: they will have a score of 1 if they do not have any political element (issues or targets, following the codebook), 2 if they have at least one (issue or target) and 3 for more (the addition dependending on how many political issues or targets were involved). For escalation and type, we only consider types of conflict that are political in nature (pro, intra extra and anti government protest)\n",
    "*Could you do an scale with dummy variables? And with a 0? Do they index of the scale have to have the same numbers in each scale or they can have different although equal in value (the dilemma of multiple in this dataset, without it in etype and escalation)"
   ]
  },
  {
   "cell_type": "code",
   "execution_count": 4,
   "metadata": {},
   "outputs": [],
   "source": [
    "gen govtarget= cgovtarget + rgovtarget\n",
    "egen polissue= rowtotal(polissue1 polissue2 polissue3)"
   ]
  },
  {
   "cell_type": "code",
   "execution_count": 5,
   "metadata": {},
   "outputs": [
    {
     "name": "stdout",
     "output_type": "stream",
     "text": [
      "\n",
      "(polissue: 5331 changes made)\n",
      "(polescalation: 5602 changes made)\n",
      "(poletype: 5602 changes made)\n",
      "(govtarget: 5457 changes made)\n",
      "\n",
      "\n",
      "   polissue |      Freq.     Percent        Cum.\n",
      "------------+-----------------------------------\n",
      "          1 |      3,480       62.12       62.12\n",
      "          2 |      2,122       37.88      100.00\n",
      "------------+-----------------------------------\n",
      "      Total |      5,602      100.00\n",
      "\n",
      "\n",
      "  RECODE of |\n",
      " escalation |      Freq.     Percent        Cum.\n",
      "------------+-----------------------------------\n",
      "          1 |      5,559       99.23       99.23\n",
      "          2 |         43        0.77      100.00\n",
      "------------+-----------------------------------\n",
      "      Total |      5,602      100.00\n",
      "\n",
      "\n",
      "  RECODE of |\n",
      "      etype |      Freq.     Percent        Cum.\n",
      "------------+-----------------------------------\n",
      "          1 |      3,031       54.11       54.11\n",
      "          2 |      2,571       45.89      100.00\n",
      "------------+-----------------------------------\n",
      "      Total |      5,602      100.00\n",
      "\n",
      "\n",
      "  govtarget |      Freq.     Percent        Cum.\n",
      "------------+-----------------------------------\n",
      "          1 |      2,789       49.79       49.79\n",
      "          2 |      2,813       50.21      100.00\n",
      "------------+-----------------------------------\n",
      "      Total |      5,602      100.00\n"
     ]
    }
   ],
   "source": [
    "foreach var in polissue polescalation poletype govtarget {\n",
    "recode `var'(3=2) (4=2) (5=2) (6=2) (7=2) (1=2) (0=1)\n",
    "}\n",
    "tab polissue\n",
    "tab polescalation\n",
    "tab poletype\n",
    "tab govtarget\n"
   ]
  },
  {
   "cell_type": "code",
   "execution_count": 6,
   "metadata": {},
   "outputs": [
    {
     "name": "stdout",
     "output_type": "stream",
     "text": [
      "\n",
      "             | polissue poletype polesc~n govtar~t\n",
      "-------------+------------------------------------\n",
      "    polissue |   1.0000 \n",
      "             |\n",
      "             |\n",
      "    poletype |  -0.3529   1.0000 \n",
      "             |   0.0000\n",
      "             |\n",
      "polescalat~n |   0.0325  -0.0523   1.0000 \n",
      "             |   0.0149   0.0001\n",
      "             |\n",
      "   govtarget |   0.1166  -0.3145   0.0058   1.0000 \n",
      "             |   0.0000   0.0000   0.6665\n",
      "             |\n"
     ]
    }
   ],
   "source": [
    "pwcorr polissue poletype polescalation govtarget, sig "
   ]
  },
  {
   "cell_type": "markdown",
   "metadata": {},
   "source": [
    "### 3. Estimate factor loadings [1 pt]\n",
    "\n",
    "    A. Estimate factor loadings for the variables you propose including in your multi-item scale(s)\n",
    "    B. Rotate and plot the factor loadings\n",
    "    C. Do the factor loadings support your hypothesis that multiple items should be grouped into a scale?\n",
    "    *Partially, since it supports at least grouping for political escalation and political issues\n",
    "    D. Do the factor loadings suggest any proposed items should not be included in your scale? Or that an additional scale is in order?\n",
    "    *The results indicate that political type should be dropped from the scale, while it is not clear in the case of government target (one factor supports and the other does not).\n",
    "    "
   ]
  },
  {
   "cell_type": "code",
   "execution_count": 7,
   "metadata": {},
   "outputs": [
    {
     "name": "stdout",
     "output_type": "stream",
     "text": [
      "\n",
      "(obs=5,602)\n",
      "\n",
      "Factor analysis/correlation                      Number of obs    =      5,602\n",
      "    Method: principal factors                    Retained factors =          2\n",
      "    Rotation: (unrotated)                        Number of params =          6\n",
      "\n",
      "    --------------------------------------------------------------------------\n",
      "         Factor  |   Eigenvalue   Difference        Proportion   Cumulative\n",
      "    -------------+------------------------------------------------------------\n",
      "        Factor1  |      0.69315      0.67852            1.6162       1.6162\n",
      "        Factor2  |      0.01463      0.03497            0.0341       1.6504\n",
      "        Factor3  |     -0.02034      0.23824           -0.0474       1.6029\n",
      "        Factor4  |     -0.25858            .           -0.6029       1.0000\n",
      "    --------------------------------------------------------------------------\n",
      "    LR test: independent vs. saturated:  chi2(6)  = 1345.69 Prob>chi2 = 0.0000\n",
      "\n",
      "Factor loadings (pattern matrix) and unique variances\n",
      "\n",
      "    -------------------------------------------------\n",
      "        Variable |  Factor1   Factor2 |   Uniqueness \n",
      "    -------------+--------------------+--------------\n",
      "        polissue |   0.4444    0.0454 |      0.8004  \n",
      "        poletype |  -0.5791    0.0009 |      0.6646  \n",
      "    polescalat~n |   0.0681    0.0910 |      0.9871  \n",
      "       govtarget |   0.3945   -0.0655 |      0.8401  \n",
      "    -------------------------------------------------\n"
     ]
    },
    {
     "data": {
      "application/pdf": "[encoded data removed]",
      "image/svg+xml": [
       "<?xml version=\"1.0\" encoding=\"UTF-8\" standalone=\"no\"?>\n",
       "<!-- This is a Stata 16.0 generated SVG file (http://www.stata.com) -->\n",
       "\n",
       "<svg version=\"1.1\" width=\"600px\" height=\"436px\" viewBox=\"0 0 3960 2880\" xmlns=\"http://www.w3.org/2000/svg\" xmlns:xlink=\"http://www.w3.org/1999/xlink\">\n",
       "\t<desc>Stata Graph - Graph</desc>\n",
       "\t<rect x=\"0\" y=\"0\" width=\"3960\" height=\"2880\" style=\"fill:#EAF2F3;stroke:none\"/>\n",
       "\t<rect x=\"0.00\" y=\"0.00\" width=\"3959.88\" height=\"2880.00\" style=\"fill:#EAF2F3\"/>\n",
       "\t<rect x=\"2.88\" y=\"2.88\" width=\"3954.12\" height=\"2874.24\" style=\"fill:none;stroke:#EAF2F3;stroke-width:5.76\"/>\n",
       "\t<rect x=\"63.36\" y=\"237.98\" width=\"3833.16\" height=\"2578.66\" style=\"fill:#EAF2F3\"/>\n",
       "\t<rect x=\"66.24\" y=\"240.86\" width=\"3827.40\" height=\"2572.90\" style=\"fill:none;stroke:#EAF2F3;stroke-width:5.76\"/>\n",
       "\t<rect x=\"454.16\" y=\"338.71\" width=\"3341.50\" height=\"2087.11\" style=\"fill:#FFFFFF\"/>\n",
       "\t<rect x=\"457.04\" y=\"341.59\" width=\"3335.74\" height=\"2081.35\" style=\"fill:none;stroke:#FFFFFF;stroke-width:5.76\"/>\n",
       "\t<line x1=\"454.16\" y1=\"1872.40\" x2=\"3795.66\" y2=\"1872.40\" style=\"stroke:#EAF2F3;stroke-width:8.64\"/>\n",
       "\t<line x1=\"454.16\" y1=\"1382.33\" x2=\"3795.66\" y2=\"1382.33\" style=\"stroke:#EAF2F3;stroke-width:8.64\"/>\n",
       "\t<line x1=\"454.16\" y1=\"892.14\" x2=\"3795.66\" y2=\"892.14\" style=\"stroke:#EAF2F3;stroke-width:8.64\"/>\n",
       "\t<line x1=\"454.16\" y1=\"402.08\" x2=\"3795.66\" y2=\"402.08\" style=\"stroke:#EAF2F3;stroke-width:8.64\"/>\n",
       "\t<circle cx=\"3732.42\" cy=\"937.56\" r=\"26.35\" style=\"fill:#1A476F\"/>\n",
       "\t<circle cx=\"3732.42\" cy=\"937.56\" r=\"22.03\" style=\"fill:none;stroke:#1A476F;stroke-width:8.64\"/>\n",
       "\t<text x=\"3690.47\" y=\"965.57\" style=\"font-family:'Helvetica';font-size:79.94px;fill:#1A476f\" text-anchor=\"end\">polissue</text>\n",
       "\t<circle cx=\"581.75\" cy=\"1373.42\" r=\"26.35\" style=\"fill:#1A476F\"/>\n",
       "\t<circle cx=\"581.75\" cy=\"1373.42\" r=\"22.03\" style=\"fill:none;stroke:#1A476F;stroke-width:8.64\"/>\n",
       "\t<text x=\"623.70\" y=\"1401.43\" style=\"font-family:'Helvetica';font-size:79.94px;fill:#1A476f\">poletype</text>\n",
       "\t<circle cx=\"2574.00\" cy=\"490.19\" r=\"26.35\" style=\"fill:#1A476F\"/>\n",
       "\t<circle cx=\"2574.00\" cy=\"490.19\" r=\"22.03\" style=\"fill:none;stroke:#1A476F;stroke-width:8.64\"/>\n",
       "\t<text x=\"2574.00\" y=\"588.04\" style=\"font-family:'Helvetica';font-size:79.94px;fill:#1A476f\" text-anchor=\"middle\">polescalat~n</text>\n",
       "\t<circle cx=\"3578.73\" cy=\"2024.24\" r=\"26.35\" style=\"fill:#1A476F\"/>\n",
       "\t<circle cx=\"3578.73\" cy=\"2024.24\" r=\"22.03\" style=\"fill:none;stroke:#1A476F;stroke-width:8.64\"/>\n",
       "\t<text x=\"3557.69\" y=\"1987.86\" style=\"font-family:'Helvetica';font-size:79.94px;fill:#1A476f\" text-anchor=\"end\">govtarget</text>\n",
       "\t<line x1=\"454.16\" y1=\"2425.82\" x2=\"454.16\" y2=\"338.71\" style=\"stroke:#000000;stroke-width:5.76\"/>\n",
       "\t<line x1=\"454.16\" y1=\"2362.46\" x2=\"414.19\" y2=\"2362.46\" style=\"stroke:#000000;stroke-width:5.76\"/>\n",
       "\t<text x=\"364.08\" y=\"2362.46\" style=\"font-family:'Helvetica';font-size:99.99px;fill:#000000\" transform=\"rotate(-90 364.08,2362.46)\" text-anchor=\"middle\">-.1</text>\n",
       "\t<line x1=\"454.16\" y1=\"1872.40\" x2=\"414.19\" y2=\"1872.40\" style=\"stroke:#000000;stroke-width:5.76\"/>\n",
       "\t<text x=\"364.08\" y=\"1872.40\" style=\"font-family:'Helvetica';font-size:99.99px;fill:#000000\" transform=\"rotate(-90 364.08,1872.40)\" text-anchor=\"middle\">-.05</text>\n",
       "\t<line x1=\"454.16\" y1=\"1382.33\" x2=\"414.19\" y2=\"1382.33\" style=\"stroke:#000000;stroke-width:5.76\"/>\n",
       "\t<text x=\"364.08\" y=\"1382.33\" style=\"font-family:'Helvetica';font-size:99.99px;fill:#000000\" transform=\"rotate(-90 364.08,1382.33)\" text-anchor=\"middle\">0</text>\n",
       "\t<line x1=\"454.16\" y1=\"892.14\" x2=\"414.19\" y2=\"892.14\" style=\"stroke:#000000;stroke-width:5.76\"/>\n",
       "\t<text x=\"364.08\" y=\"892.14\" style=\"font-family:'Helvetica';font-size:99.99px;fill:#000000\" transform=\"rotate(-90 364.08,892.14)\" text-anchor=\"middle\">.05</text>\n",
       "\t<line x1=\"454.16\" y1=\"402.08\" x2=\"414.19\" y2=\"402.08\" style=\"stroke:#000000;stroke-width:5.76\"/>\n",
       "\t<text x=\"364.08\" y=\"402.08\" style=\"font-family:'Helvetica';font-size:99.99px;fill:#000000\" transform=\"rotate(-90 364.08,402.08)\" text-anchor=\"middle\">.1</text>\n",
       "\t<text x=\"254.07\" y=\"1382.33\" style=\"font-family:'Helvetica';font-size:99.99px;fill:#000000\" transform=\"rotate(-90 254.07,1382.33)\" text-anchor=\"middle\">Factor 2</text>\n",
       "\t<line x1=\"454.16\" y1=\"2425.82\" x2=\"3795.66\" y2=\"2425.82\" style=\"stroke:#000000;stroke-width:5.76\"/>\n",
       "\t<line x1=\"517.52\" y1=\"2425.82\" x2=\"517.52\" y2=\"2465.80\" style=\"stroke:#000000;stroke-width:5.76\"/>\n",
       "\t<text x=\"517.52\" y=\"2555.78\" style=\"font-family:'Helvetica';font-size:99.99px;fill:#000000\" text-anchor=\"middle\">-.6</text>\n",
       "\t<line x1=\"1133.18\" y1=\"2425.82\" x2=\"1133.18\" y2=\"2465.80\" style=\"stroke:#000000;stroke-width:5.76\"/>\n",
       "\t<text x=\"1133.18\" y=\"2555.78\" style=\"font-family:'Helvetica';font-size:99.99px;fill:#000000\" text-anchor=\"middle\">-.4</text>\n",
       "\t<line x1=\"1748.71\" y1=\"2425.82\" x2=\"1748.71\" y2=\"2465.80\" style=\"stroke:#000000;stroke-width:5.76\"/>\n",
       "\t<text x=\"1748.71\" y=\"2555.78\" style=\"font-family:'Helvetica';font-size:99.99px;fill:#000000\" text-anchor=\"middle\">-.2</text>\n",
       "\t<line x1=\"2364.37\" y1=\"2425.82\" x2=\"2364.37\" y2=\"2465.80\" style=\"stroke:#000000;stroke-width:5.76\"/>\n",
       "\t<text x=\"2364.37\" y=\"2555.78\" style=\"font-family:'Helvetica';font-size:99.99px;fill:#000000\" text-anchor=\"middle\">0</text>\n",
       "\t<line x1=\"2980.02\" y1=\"2425.82\" x2=\"2980.02\" y2=\"2465.80\" style=\"stroke:#000000;stroke-width:5.76\"/>\n",
       "\t<text x=\"2980.02\" y=\"2555.78\" style=\"font-family:'Helvetica';font-size:99.99px;fill:#000000\" text-anchor=\"middle\">.2</text>\n",
       "\t<line x1=\"3595.68\" y1=\"2425.82\" x2=\"3595.68\" y2=\"2465.80\" style=\"stroke:#000000;stroke-width:5.76\"/>\n",
       "\t<text x=\"3595.68\" y=\"2555.78\" style=\"font-family:'Helvetica';font-size:99.99px;fill:#000000\" text-anchor=\"middle\">.4</text>\n",
       "\t<text x=\"2124.91\" y=\"2665.79\" style=\"font-family:'Helvetica';font-size:99.99px;fill:#000000\" text-anchor=\"middle\">Factor 1</text>\n",
       "\t<text x=\"1980.00\" y=\"178.60\" style=\"font-family:'Helvetica';font-size:139.96px;fill:#1E2D53\" text-anchor=\"middle\">Factor loadings</text>\n",
       "</svg>\n"
      ],
      "text/html": [
       "                <iframe frameborder=\"0\" scrolling=\"no\" height=\"436\" width=\"600\"                srcdoc=\"<html><body>&lt;?xml version=&quot;1.0&quot; encoding=&quot;UTF-8&quot; standalone=&quot;no&quot;?&gt;\n",
       "&lt;!-- This is a Stata 16.0 generated SVG file (http://www.stata.com) --&gt;\n",
       "\n",
       "&lt;svg version=&quot;1.1&quot; width=&quot;600px&quot; height=&quot;436px&quot; viewBox=&quot;0 0 3960 2880&quot; xmlns=&quot;http://www.w3.org/2000/svg&quot; xmlns:xlink=&quot;http://www.w3.org/1999/xlink&quot;&gt;\n",
       "\t&lt;desc&gt;Stata Graph - Graph&lt;/desc&gt;\n",
       "\t&lt;rect x=&quot;0&quot; y=&quot;0&quot; width=&quot;3960&quot; height=&quot;2880&quot; style=&quot;fill:#EAF2F3;stroke:none&quot;/&gt;\n",
       "\t&lt;rect x=&quot;0.00&quot; y=&quot;0.00&quot; width=&quot;3959.88&quot; height=&quot;2880.00&quot; style=&quot;fill:#EAF2F3&quot;/&gt;\n",
       "\t&lt;rect x=&quot;2.88&quot; y=&quot;2.88&quot; width=&quot;3954.12&quot; height=&quot;2874.24&quot; style=&quot;fill:none;stroke:#EAF2F3;stroke-width:5.76&quot;/&gt;\n",
       "\t&lt;rect x=&quot;63.36&quot; y=&quot;237.98&quot; width=&quot;3833.16&quot; height=&quot;2578.66&quot; style=&quot;fill:#EAF2F3&quot;/&gt;\n",
       "\t&lt;rect x=&quot;66.24&quot; y=&quot;240.86&quot; width=&quot;3827.40&quot; height=&quot;2572.90&quot; style=&quot;fill:none;stroke:#EAF2F3;stroke-width:5.76&quot;/&gt;\n",
       "\t&lt;rect x=&quot;454.16&quot; y=&quot;338.71&quot; width=&quot;3341.50&quot; height=&quot;2087.11&quot; style=&quot;fill:#FFFFFF&quot;/&gt;\n",
       "\t&lt;rect x=&quot;457.04&quot; y=&quot;341.59&quot; width=&quot;3335.74&quot; height=&quot;2081.35&quot; style=&quot;fill:none;stroke:#FFFFFF;stroke-width:5.76&quot;/&gt;\n",
       "\t&lt;line x1=&quot;454.16&quot; y1=&quot;1872.40&quot; x2=&quot;3795.66&quot; y2=&quot;1872.40&quot; style=&quot;stroke:#EAF2F3;stroke-width:8.64&quot;/&gt;\n",
       "\t&lt;line x1=&quot;454.16&quot; y1=&quot;1382.33&quot; x2=&quot;3795.66&quot; y2=&quot;1382.33&quot; style=&quot;stroke:#EAF2F3;stroke-width:8.64&quot;/&gt;\n",
       "\t&lt;line x1=&quot;454.16&quot; y1=&quot;892.14&quot; x2=&quot;3795.66&quot; y2=&quot;892.14&quot; style=&quot;stroke:#EAF2F3;stroke-width:8.64&quot;/&gt;\n",
       "\t&lt;line x1=&quot;454.16&quot; y1=&quot;402.08&quot; x2=&quot;3795.66&quot; y2=&quot;402.08&quot; style=&quot;stroke:#EAF2F3;stroke-width:8.64&quot;/&gt;\n",
       "\t&lt;circle cx=&quot;3732.42&quot; cy=&quot;937.56&quot; r=&quot;26.35&quot; style=&quot;fill:#1A476F&quot;/&gt;\n",
       "\t&lt;circle cx=&quot;3732.42&quot; cy=&quot;937.56&quot; r=&quot;22.03&quot; style=&quot;fill:none;stroke:#1A476F;stroke-width:8.64&quot;/&gt;\n",
       "\t&lt;text x=&quot;3690.47&quot; y=&quot;965.57&quot; style=&quot;font-family:&#x27;Helvetica&#x27;;font-size:79.94px;fill:#1A476f&quot; text-anchor=&quot;end&quot;&gt;polissue&lt;/text&gt;\n",
       "\t&lt;circle cx=&quot;581.75&quot; cy=&quot;1373.42&quot; r=&quot;26.35&quot; style=&quot;fill:#1A476F&quot;/&gt;\n",
       "\t&lt;circle cx=&quot;581.75&quot; cy=&quot;1373.42&quot; r=&quot;22.03&quot; style=&quot;fill:none;stroke:#1A476F;stroke-width:8.64&quot;/&gt;\n",
       "\t&lt;text x=&quot;623.70&quot; y=&quot;1401.43&quot; style=&quot;font-family:&#x27;Helvetica&#x27;;font-size:79.94px;fill:#1A476f&quot;&gt;poletype&lt;/text&gt;\n",
       "\t&lt;circle cx=&quot;2574.00&quot; cy=&quot;490.19&quot; r=&quot;26.35&quot; style=&quot;fill:#1A476F&quot;/&gt;\n",
       "\t&lt;circle cx=&quot;2574.00&quot; cy=&quot;490.19&quot; r=&quot;22.03&quot; style=&quot;fill:none;stroke:#1A476F;stroke-width:8.64&quot;/&gt;\n",
       "\t&lt;text x=&quot;2574.00&quot; y=&quot;588.04&quot; style=&quot;font-family:&#x27;Helvetica&#x27;;font-size:79.94px;fill:#1A476f&quot; text-anchor=&quot;middle&quot;&gt;polescalat~n&lt;/text&gt;\n",
       "\t&lt;circle cx=&quot;3578.73&quot; cy=&quot;2024.24&quot; r=&quot;26.35&quot; style=&quot;fill:#1A476F&quot;/&gt;\n",
       "\t&lt;circle cx=&quot;3578.73&quot; cy=&quot;2024.24&quot; r=&quot;22.03&quot; style=&quot;fill:none;stroke:#1A476F;stroke-width:8.64&quot;/&gt;\n",
       "\t&lt;text x=&quot;3557.69&quot; y=&quot;1987.86&quot; style=&quot;font-family:&#x27;Helvetica&#x27;;font-size:79.94px;fill:#1A476f&quot; text-anchor=&quot;end&quot;&gt;govtarget&lt;/text&gt;\n",
       "\t&lt;line x1=&quot;454.16&quot; y1=&quot;2425.82&quot; x2=&quot;454.16&quot; y2=&quot;338.71&quot; style=&quot;stroke:#000000;stroke-width:5.76&quot;/&gt;\n",
       "\t&lt;line x1=&quot;454.16&quot; y1=&quot;2362.46&quot; x2=&quot;414.19&quot; y2=&quot;2362.46&quot; style=&quot;stroke:#000000;stroke-width:5.76&quot;/&gt;\n",
       "\t&lt;text x=&quot;364.08&quot; y=&quot;2362.46&quot; style=&quot;font-family:&#x27;Helvetica&#x27;;font-size:99.99px;fill:#000000&quot; transform=&quot;rotate(-90 364.08,2362.46)&quot; text-anchor=&quot;middle&quot;&gt;-.1&lt;/text&gt;\n",
       "\t&lt;line x1=&quot;454.16&quot; y1=&quot;1872.40&quot; x2=&quot;414.19&quot; y2=&quot;1872.40&quot; style=&quot;stroke:#000000;stroke-width:5.76&quot;/&gt;\n",
       "\t&lt;text x=&quot;364.08&quot; y=&quot;1872.40&quot; style=&quot;font-family:&#x27;Helvetica&#x27;;font-size:99.99px;fill:#000000&quot; transform=&quot;rotate(-90 364.08,1872.40)&quot; text-anchor=&quot;middle&quot;&gt;-.05&lt;/text&gt;\n",
       "\t&lt;line x1=&quot;454.16&quot; y1=&quot;1382.33&quot; x2=&quot;414.19&quot; y2=&quot;1382.33&quot; style=&quot;stroke:#000000;stroke-width:5.76&quot;/&gt;\n",
       "\t&lt;text x=&quot;364.08&quot; y=&quot;1382.33&quot; style=&quot;font-family:&#x27;Helvetica&#x27;;font-size:99.99px;fill:#000000&quot; transform=&quot;rotate(-90 364.08,1382.33)&quot; text-anchor=&quot;middle&quot;&gt;0&lt;/text&gt;\n",
       "\t&lt;line x1=&quot;454.16&quot; y1=&quot;892.14&quot; x2=&quot;414.19&quot; y2=&quot;892.14&quot; style=&quot;stroke:#000000;stroke-width:5.76&quot;/&gt;\n",
       "\t&lt;text x=&quot;364.08&quot; y=&quot;892.14&quot; style=&quot;font-family:&#x27;Helvetica&#x27;;font-size:99.99px;fill:#000000&quot; transform=&quot;rotate(-90 364.08,892.14)&quot; text-anchor=&quot;middle&quot;&gt;.05&lt;/text&gt;\n",
       "\t&lt;line x1=&quot;454.16&quot; y1=&quot;402.08&quot; x2=&quot;414.19&quot; y2=&quot;402.08&quot; style=&quot;stroke:#000000;stroke-width:5.76&quot;/&gt;\n",
       "\t&lt;text x=&quot;364.08&quot; y=&quot;402.08&quot; style=&quot;font-family:&#x27;Helvetica&#x27;;font-size:99.99px;fill:#000000&quot; transform=&quot;rotate(-90 364.08,402.08)&quot; text-anchor=&quot;middle&quot;&gt;.1&lt;/text&gt;\n",
       "\t&lt;text x=&quot;254.07&quot; y=&quot;1382.33&quot; style=&quot;font-family:&#x27;Helvetica&#x27;;font-size:99.99px;fill:#000000&quot; transform=&quot;rotate(-90 254.07,1382.33)&quot; text-anchor=&quot;middle&quot;&gt;Factor 2&lt;/text&gt;\n",
       "\t&lt;line x1=&quot;454.16&quot; y1=&quot;2425.82&quot; x2=&quot;3795.66&quot; y2=&quot;2425.82&quot; style=&quot;stroke:#000000;stroke-width:5.76&quot;/&gt;\n",
       "\t&lt;line x1=&quot;517.52&quot; y1=&quot;2425.82&quot; x2=&quot;517.52&quot; y2=&quot;2465.80&quot; style=&quot;stroke:#000000;stroke-width:5.76&quot;/&gt;\n",
       "\t&lt;text x=&quot;517.52&quot; y=&quot;2555.78&quot; style=&quot;font-family:&#x27;Helvetica&#x27;;font-size:99.99px;fill:#000000&quot; text-anchor=&quot;middle&quot;&gt;-.6&lt;/text&gt;\n",
       "\t&lt;line x1=&quot;1133.18&quot; y1=&quot;2425.82&quot; x2=&quot;1133.18&quot; y2=&quot;2465.80&quot; style=&quot;stroke:#000000;stroke-width:5.76&quot;/&gt;\n",
       "\t&lt;text x=&quot;1133.18&quot; y=&quot;2555.78&quot; style=&quot;font-family:&#x27;Helvetica&#x27;;font-size:99.99px;fill:#000000&quot; text-anchor=&quot;middle&quot;&gt;-.4&lt;/text&gt;\n",
       "\t&lt;line x1=&quot;1748.71&quot; y1=&quot;2425.82&quot; x2=&quot;1748.71&quot; y2=&quot;2465.80&quot; style=&quot;stroke:#000000;stroke-width:5.76&quot;/&gt;\n",
       "\t&lt;text x=&quot;1748.71&quot; y=&quot;2555.78&quot; style=&quot;font-family:&#x27;Helvetica&#x27;;font-size:99.99px;fill:#000000&quot; text-anchor=&quot;middle&quot;&gt;-.2&lt;/text&gt;\n",
       "\t&lt;line x1=&quot;2364.37&quot; y1=&quot;2425.82&quot; x2=&quot;2364.37&quot; y2=&quot;2465.80&quot; style=&quot;stroke:#000000;stroke-width:5.76&quot;/&gt;\n",
       "\t&lt;text x=&quot;2364.37&quot; y=&quot;2555.78&quot; style=&quot;font-family:&#x27;Helvetica&#x27;;font-size:99.99px;fill:#000000&quot; text-anchor=&quot;middle&quot;&gt;0&lt;/text&gt;\n",
       "\t&lt;line x1=&quot;2980.02&quot; y1=&quot;2425.82&quot; x2=&quot;2980.02&quot; y2=&quot;2465.80&quot; style=&quot;stroke:#000000;stroke-width:5.76&quot;/&gt;\n",
       "\t&lt;text x=&quot;2980.02&quot; y=&quot;2555.78&quot; style=&quot;font-family:&#x27;Helvetica&#x27;;font-size:99.99px;fill:#000000&quot; text-anchor=&quot;middle&quot;&gt;.2&lt;/text&gt;\n",
       "\t&lt;line x1=&quot;3595.68&quot; y1=&quot;2425.82&quot; x2=&quot;3595.68&quot; y2=&quot;2465.80&quot; style=&quot;stroke:#000000;stroke-width:5.76&quot;/&gt;\n",
       "\t&lt;text x=&quot;3595.68&quot; y=&quot;2555.78&quot; style=&quot;font-family:&#x27;Helvetica&#x27;;font-size:99.99px;fill:#000000&quot; text-anchor=&quot;middle&quot;&gt;.4&lt;/text&gt;\n",
       "\t&lt;text x=&quot;2124.91&quot; y=&quot;2665.79&quot; style=&quot;font-family:&#x27;Helvetica&#x27;;font-size:99.99px;fill:#000000&quot; text-anchor=&quot;middle&quot;&gt;Factor 1&lt;/text&gt;\n",
       "\t&lt;text x=&quot;1980.00&quot; y=&quot;178.60&quot; style=&quot;font-family:&#x27;Helvetica&#x27;;font-size:139.96px;fill:#1E2D53&quot; text-anchor=&quot;middle&quot;&gt;Factor loadings&lt;/text&gt;\n",
       "&lt;/svg&gt;\n",
       "</body></html>\"></iframe>\n"
      ],
      "text/plain": [
       "This front-end cannot display the desired image type."
      ]
     },
     "metadata": {
      "image/svg+xml": {
       "height": 436,
       "width": 600
      },
      "text/html": {
       "height": 436,
       "width": 600
      }
     },
     "output_type": "display_data"
    },
    {
     "name": "stdout",
     "output_type": "stream",
     "text": [
      "\n",
      "\n",
      "\n"
     ]
    }
   ],
   "source": [
    "factor polissue poletype polescalation govtarget\n",
    "loadingplot, norotated"
   ]
  },
  {
   "cell_type": "code",
   "execution_count": 10,
   "metadata": {},
   "outputs": [
    {
     "name": "stdout",
     "output_type": "stream",
     "text": [
      "\n",
      "\n",
      "\n",
      "Factor analysis/correlation                      Number of obs    =      5,602\n",
      "    Method: principal factors                    Retained factors =          2\n",
      "    Rotation: orthogonal varimax (Kaiser off)    Number of params =          6\n",
      "\n",
      "    --------------------------------------------------------------------------\n",
      "         Factor  |     Variance   Difference        Proportion   Cumulative\n",
      "    -------------+------------------------------------------------------------\n",
      "        Factor1  |      0.69315      0.67851            1.6162       1.6162\n",
      "        Factor2  |      0.01464            .            0.0341       1.6504\n",
      "    --------------------------------------------------------------------------\n",
      "    LR test: independent vs. saturated:  chi2(6)  = 1345.69 Prob>chi2 = 0.0000\n",
      "\n",
      "Rotated factor loadings (pattern matrix) and unique variances\n",
      "\n",
      "    -------------------------------------------------\n",
      "        Variable |  Factor1   Factor2 |   Uniqueness \n",
      "    -------------+--------------------+--------------\n",
      "        polissue |   0.4443    0.0467 |      0.8004  \n",
      "        poletype |  -0.5791   -0.0009 |      0.6646  \n",
      "    polescalat~n |   0.0678    0.0912 |      0.9871  \n",
      "       govtarget |   0.3947   -0.0643 |      0.8401  \n",
      "    -------------------------------------------------\n",
      "\n",
      "Factor rotation matrix\n",
      "\n",
      "    --------------------------------\n",
      "                 | Factor1  Factor2 \n",
      "    -------------+------------------\n",
      "         Factor1 |  1.0000   0.0031 \n",
      "         Factor2 | -0.0031   1.0000 \n",
      "    --------------------------------\n"
     ]
    },
    {
     "data": {
      "application/pdf": "[encoded data removed]",
      "image/svg+xml": [
       "<?xml version=\"1.0\" encoding=\"UTF-8\" standalone=\"no\"?>\n",
       "<!-- This is a Stata 16.0 generated SVG file (http://www.stata.com) -->\n",
       "\n",
       "<svg version=\"1.1\" width=\"600px\" height=\"436px\" viewBox=\"0 0 3960 2880\" xmlns=\"http://www.w3.org/2000/svg\" xmlns:xlink=\"http://www.w3.org/1999/xlink\">\n",
       "\t<desc>Stata Graph - Graph</desc>\n",
       "\t<rect x=\"0\" y=\"0\" width=\"3960\" height=\"2880\" style=\"fill:#EAF2F3;stroke:none\"/>\n",
       "\t<rect x=\"0.00\" y=\"0.00\" width=\"3959.88\" height=\"2880.00\" style=\"fill:#EAF2F3\"/>\n",
       "\t<rect x=\"2.88\" y=\"2.88\" width=\"3954.12\" height=\"2874.24\" style=\"fill:none;stroke:#EAF2F3;stroke-width:5.76\"/>\n",
       "\t<rect x=\"63.36\" y=\"237.98\" width=\"3833.16\" height=\"2384.12\" style=\"fill:#EAF2F3\"/>\n",
       "\t<rect x=\"66.24\" y=\"240.86\" width=\"3827.40\" height=\"2378.36\" style=\"fill:none;stroke:#EAF2F3;stroke-width:5.76\"/>\n",
       "\t<rect x=\"454.16\" y=\"338.71\" width=\"3341.50\" height=\"1892.57\" style=\"fill:#FFFFFF\"/>\n",
       "\t<rect x=\"457.04\" y=\"341.59\" width=\"3335.74\" height=\"1886.81\" style=\"fill:none;stroke:#FFFFFF;stroke-width:5.76\"/>\n",
       "\t<line x1=\"454.16\" y1=\"1726.49\" x2=\"3795.66\" y2=\"1726.49\" style=\"stroke:#EAF2F3;stroke-width:8.64\"/>\n",
       "\t<line x1=\"454.16\" y1=\"1285.06\" x2=\"3795.66\" y2=\"1285.06\" style=\"stroke:#EAF2F3;stroke-width:8.64\"/>\n",
       "\t<line x1=\"454.16\" y1=\"843.51\" x2=\"3795.66\" y2=\"843.51\" style=\"stroke:#EAF2F3;stroke-width:8.64\"/>\n",
       "\t<line x1=\"454.16\" y1=\"402.08\" x2=\"3795.66\" y2=\"402.08\" style=\"stroke:#EAF2F3;stroke-width:8.64\"/>\n",
       "\t<circle cx=\"3732.42\" cy=\"872.22\" r=\"26.35\" style=\"fill:#1A476F\"/>\n",
       "\t<circle cx=\"3732.42\" cy=\"872.22\" r=\"22.03\" style=\"fill:none;stroke:#1A476F;stroke-width:8.64\"/>\n",
       "\t<text x=\"3690.47\" y=\"900.23\" style=\"font-family:'Helvetica';font-size:79.94px;fill:#1A476f\" text-anchor=\"end\">polissue</text>\n",
       "\t<circle cx=\"581.75\" cy=\"1292.98\" r=\"26.35\" style=\"fill:#1A476F\"/>\n",
       "\t<circle cx=\"581.75\" cy=\"1292.98\" r=\"22.03\" style=\"fill:none;stroke:#1A476F;stroke-width:8.64\"/>\n",
       "\t<text x=\"623.70\" y=\"1320.99\" style=\"font-family:'Helvetica';font-size:79.94px;fill:#1A476f\">poletype</text>\n",
       "\t<circle cx=\"2573.38\" cy=\"479.55\" r=\"26.35\" style=\"fill:#1A476F\"/>\n",
       "\t<circle cx=\"2573.38\" cy=\"479.55\" r=\"22.03\" style=\"fill:none;stroke:#1A476F;stroke-width:8.64\"/>\n",
       "\t<text x=\"2573.38\" y=\"577.40\" style=\"font-family:'Helvetica';font-size:79.94px;fill:#1A476f\" text-anchor=\"middle\">polescalat~n</text>\n",
       "\t<circle cx=\"3579.84\" cy=\"1852.47\" r=\"26.35\" style=\"fill:#1A476F\"/>\n",
       "\t<circle cx=\"3579.84\" cy=\"1852.47\" r=\"22.03\" style=\"fill:none;stroke:#1A476F;stroke-width:8.64\"/>\n",
       "\t<text x=\"3558.80\" y=\"1816.09\" style=\"font-family:'Helvetica';font-size:79.94px;fill:#1A476f\" text-anchor=\"end\">govtarget</text>\n",
       "\t<line x1=\"454.16\" y1=\"2231.28\" x2=\"454.16\" y2=\"338.71\" style=\"stroke:#000000;stroke-width:5.76\"/>\n",
       "\t<line x1=\"454.16\" y1=\"2167.92\" x2=\"414.19\" y2=\"2167.92\" style=\"stroke:#000000;stroke-width:5.76\"/>\n",
       "\t<text x=\"364.08\" y=\"2167.92\" style=\"font-family:'Helvetica';font-size:99.99px;fill:#000000\" transform=\"rotate(-90 364.08,2167.92)\" text-anchor=\"middle\">-.1</text>\n",
       "\t<line x1=\"454.16\" y1=\"1726.49\" x2=\"414.19\" y2=\"1726.49\" style=\"stroke:#000000;stroke-width:5.76\"/>\n",
       "\t<text x=\"364.08\" y=\"1726.49\" style=\"font-family:'Helvetica';font-size:99.99px;fill:#000000\" transform=\"rotate(-90 364.08,1726.49)\" text-anchor=\"middle\">-.05</text>\n",
       "\t<line x1=\"454.16\" y1=\"1285.06\" x2=\"414.19\" y2=\"1285.06\" style=\"stroke:#000000;stroke-width:5.76\"/>\n",
       "\t<text x=\"364.08\" y=\"1285.06\" style=\"font-family:'Helvetica';font-size:99.99px;fill:#000000\" transform=\"rotate(-90 364.08,1285.06)\" text-anchor=\"middle\">0</text>\n",
       "\t<line x1=\"454.16\" y1=\"843.51\" x2=\"414.19\" y2=\"843.51\" style=\"stroke:#000000;stroke-width:5.76\"/>\n",
       "\t<text x=\"364.08\" y=\"843.51\" style=\"font-family:'Helvetica';font-size:99.99px;fill:#000000\" transform=\"rotate(-90 364.08,843.51)\" text-anchor=\"middle\">.05</text>\n",
       "\t<line x1=\"454.16\" y1=\"402.08\" x2=\"414.19\" y2=\"402.08\" style=\"stroke:#000000;stroke-width:5.76\"/>\n",
       "\t<text x=\"364.08\" y=\"402.08\" style=\"font-family:'Helvetica';font-size:99.99px;fill:#000000\" transform=\"rotate(-90 364.08,402.08)\" text-anchor=\"middle\">.1</text>\n",
       "\t<text x=\"254.07\" y=\"1285.06\" style=\"font-family:'Helvetica';font-size:99.99px;fill:#000000\" transform=\"rotate(-90 254.07,1285.06)\" text-anchor=\"middle\">Factor 2</text>\n",
       "\t<line x1=\"454.16\" y1=\"2231.28\" x2=\"3795.66\" y2=\"2231.28\" style=\"stroke:#000000;stroke-width:5.76\"/>\n",
       "\t<line x1=\"517.52\" y1=\"2231.28\" x2=\"517.52\" y2=\"2271.38\" style=\"stroke:#000000;stroke-width:5.76\"/>\n",
       "\t<text x=\"517.52\" y=\"2361.24\" style=\"font-family:'Helvetica';font-size:99.99px;fill:#000000\" text-anchor=\"middle\">-.6</text>\n",
       "\t<line x1=\"1133.18\" y1=\"2231.28\" x2=\"1133.18\" y2=\"2271.38\" style=\"stroke:#000000;stroke-width:5.76\"/>\n",
       "\t<text x=\"1133.18\" y=\"2361.24\" style=\"font-family:'Helvetica';font-size:99.99px;fill:#000000\" text-anchor=\"middle\">-.4</text>\n",
       "\t<line x1=\"1748.96\" y1=\"2231.28\" x2=\"1748.96\" y2=\"2271.38\" style=\"stroke:#000000;stroke-width:5.76\"/>\n",
       "\t<text x=\"1748.96\" y=\"2361.24\" style=\"font-family:'Helvetica';font-size:99.99px;fill:#000000\" text-anchor=\"middle\">-.2</text>\n",
       "\t<line x1=\"2364.61\" y1=\"2231.28\" x2=\"2364.61\" y2=\"2271.38\" style=\"stroke:#000000;stroke-width:5.76\"/>\n",
       "\t<text x=\"2364.61\" y=\"2361.24\" style=\"font-family:'Helvetica';font-size:99.99px;fill:#000000\" text-anchor=\"middle\">0</text>\n",
       "\t<line x1=\"2980.39\" y1=\"2231.28\" x2=\"2980.39\" y2=\"2271.38\" style=\"stroke:#000000;stroke-width:5.76\"/>\n",
       "\t<text x=\"2980.39\" y=\"2361.24\" style=\"font-family:'Helvetica';font-size:99.99px;fill:#000000\" text-anchor=\"middle\">.2</text>\n",
       "\t<line x1=\"3596.05\" y1=\"2231.28\" x2=\"3596.05\" y2=\"2271.38\" style=\"stroke:#000000;stroke-width:5.76\"/>\n",
       "\t<text x=\"3596.05\" y=\"2361.24\" style=\"font-family:'Helvetica';font-size:99.99px;fill:#000000\" text-anchor=\"middle\">.4</text>\n",
       "\t<text x=\"2124.91\" y=\"2471.25\" style=\"font-family:'Helvetica';font-size:99.99px;fill:#000000\" text-anchor=\"middle\">Factor 1</text>\n",
       "\t<text x=\"80.69\" y=\"2695.32\" style=\"font-family:'Helvetica';font-size:79.94px;fill:#000000\">Rotation: orthogonal varimax</text>\n",
       "\t<text x=\"80.69\" y=\"2775.27\" style=\"font-family:'Helvetica';font-size:79.94px;fill:#000000\">Method: principal factors</text>\n",
       "\t<text x=\"1980.00\" y=\"178.60\" style=\"font-family:'Helvetica';font-size:139.96px;fill:#1E2D53\" text-anchor=\"middle\">Factor loadings</text>\n",
       "</svg>\n"
      ],
      "text/html": [
       "                <iframe frameborder=\"0\" scrolling=\"no\" height=\"436\" width=\"600\"                srcdoc=\"<html><body>&lt;?xml version=&quot;1.0&quot; encoding=&quot;UTF-8&quot; standalone=&quot;no&quot;?&gt;\n",
       "&lt;!-- This is a Stata 16.0 generated SVG file (http://www.stata.com) --&gt;\n",
       "\n",
       "&lt;svg version=&quot;1.1&quot; width=&quot;600px&quot; height=&quot;436px&quot; viewBox=&quot;0 0 3960 2880&quot; xmlns=&quot;http://www.w3.org/2000/svg&quot; xmlns:xlink=&quot;http://www.w3.org/1999/xlink&quot;&gt;\n",
       "\t&lt;desc&gt;Stata Graph - Graph&lt;/desc&gt;\n",
       "\t&lt;rect x=&quot;0&quot; y=&quot;0&quot; width=&quot;3960&quot; height=&quot;2880&quot; style=&quot;fill:#EAF2F3;stroke:none&quot;/&gt;\n",
       "\t&lt;rect x=&quot;0.00&quot; y=&quot;0.00&quot; width=&quot;3959.88&quot; height=&quot;2880.00&quot; style=&quot;fill:#EAF2F3&quot;/&gt;\n",
       "\t&lt;rect x=&quot;2.88&quot; y=&quot;2.88&quot; width=&quot;3954.12&quot; height=&quot;2874.24&quot; style=&quot;fill:none;stroke:#EAF2F3;stroke-width:5.76&quot;/&gt;\n",
       "\t&lt;rect x=&quot;63.36&quot; y=&quot;237.98&quot; width=&quot;3833.16&quot; height=&quot;2384.12&quot; style=&quot;fill:#EAF2F3&quot;/&gt;\n",
       "\t&lt;rect x=&quot;66.24&quot; y=&quot;240.86&quot; width=&quot;3827.40&quot; height=&quot;2378.36&quot; style=&quot;fill:none;stroke:#EAF2F3;stroke-width:5.76&quot;/&gt;\n",
       "\t&lt;rect x=&quot;454.16&quot; y=&quot;338.71&quot; width=&quot;3341.50&quot; height=&quot;1892.57&quot; style=&quot;fill:#FFFFFF&quot;/&gt;\n",
       "\t&lt;rect x=&quot;457.04&quot; y=&quot;341.59&quot; width=&quot;3335.74&quot; height=&quot;1886.81&quot; style=&quot;fill:none;stroke:#FFFFFF;stroke-width:5.76&quot;/&gt;\n",
       "\t&lt;line x1=&quot;454.16&quot; y1=&quot;1726.49&quot; x2=&quot;3795.66&quot; y2=&quot;1726.49&quot; style=&quot;stroke:#EAF2F3;stroke-width:8.64&quot;/&gt;\n",
       "\t&lt;line x1=&quot;454.16&quot; y1=&quot;1285.06&quot; x2=&quot;3795.66&quot; y2=&quot;1285.06&quot; style=&quot;stroke:#EAF2F3;stroke-width:8.64&quot;/&gt;\n",
       "\t&lt;line x1=&quot;454.16&quot; y1=&quot;843.51&quot; x2=&quot;3795.66&quot; y2=&quot;843.51&quot; style=&quot;stroke:#EAF2F3;stroke-width:8.64&quot;/&gt;\n",
       "\t&lt;line x1=&quot;454.16&quot; y1=&quot;402.08&quot; x2=&quot;3795.66&quot; y2=&quot;402.08&quot; style=&quot;stroke:#EAF2F3;stroke-width:8.64&quot;/&gt;\n",
       "\t&lt;circle cx=&quot;3732.42&quot; cy=&quot;872.22&quot; r=&quot;26.35&quot; style=&quot;fill:#1A476F&quot;/&gt;\n",
       "\t&lt;circle cx=&quot;3732.42&quot; cy=&quot;872.22&quot; r=&quot;22.03&quot; style=&quot;fill:none;stroke:#1A476F;stroke-width:8.64&quot;/&gt;\n",
       "\t&lt;text x=&quot;3690.47&quot; y=&quot;900.23&quot; style=&quot;font-family:&#x27;Helvetica&#x27;;font-size:79.94px;fill:#1A476f&quot; text-anchor=&quot;end&quot;&gt;polissue&lt;/text&gt;\n",
       "\t&lt;circle cx=&quot;581.75&quot; cy=&quot;1292.98&quot; r=&quot;26.35&quot; style=&quot;fill:#1A476F&quot;/&gt;\n",
       "\t&lt;circle cx=&quot;581.75&quot; cy=&quot;1292.98&quot; r=&quot;22.03&quot; style=&quot;fill:none;stroke:#1A476F;stroke-width:8.64&quot;/&gt;\n",
       "\t&lt;text x=&quot;623.70&quot; y=&quot;1320.99&quot; style=&quot;font-family:&#x27;Helvetica&#x27;;font-size:79.94px;fill:#1A476f&quot;&gt;poletype&lt;/text&gt;\n",
       "\t&lt;circle cx=&quot;2573.38&quot; cy=&quot;479.55&quot; r=&quot;26.35&quot; style=&quot;fill:#1A476F&quot;/&gt;\n",
       "\t&lt;circle cx=&quot;2573.38&quot; cy=&quot;479.55&quot; r=&quot;22.03&quot; style=&quot;fill:none;stroke:#1A476F;stroke-width:8.64&quot;/&gt;\n",
       "\t&lt;text x=&quot;2573.38&quot; y=&quot;577.40&quot; style=&quot;font-family:&#x27;Helvetica&#x27;;font-size:79.94px;fill:#1A476f&quot; text-anchor=&quot;middle&quot;&gt;polescalat~n&lt;/text&gt;\n",
       "\t&lt;circle cx=&quot;3579.84&quot; cy=&quot;1852.47&quot; r=&quot;26.35&quot; style=&quot;fill:#1A476F&quot;/&gt;\n",
       "\t&lt;circle cx=&quot;3579.84&quot; cy=&quot;1852.47&quot; r=&quot;22.03&quot; style=&quot;fill:none;stroke:#1A476F;stroke-width:8.64&quot;/&gt;\n",
       "\t&lt;text x=&quot;3558.80&quot; y=&quot;1816.09&quot; style=&quot;font-family:&#x27;Helvetica&#x27;;font-size:79.94px;fill:#1A476f&quot; text-anchor=&quot;end&quot;&gt;govtarget&lt;/text&gt;\n",
       "\t&lt;line x1=&quot;454.16&quot; y1=&quot;2231.28&quot; x2=&quot;454.16&quot; y2=&quot;338.71&quot; style=&quot;stroke:#000000;stroke-width:5.76&quot;/&gt;\n",
       "\t&lt;line x1=&quot;454.16&quot; y1=&quot;2167.92&quot; x2=&quot;414.19&quot; y2=&quot;2167.92&quot; style=&quot;stroke:#000000;stroke-width:5.76&quot;/&gt;\n",
       "\t&lt;text x=&quot;364.08&quot; y=&quot;2167.92&quot; style=&quot;font-family:&#x27;Helvetica&#x27;;font-size:99.99px;fill:#000000&quot; transform=&quot;rotate(-90 364.08,2167.92)&quot; text-anchor=&quot;middle&quot;&gt;-.1&lt;/text&gt;\n",
       "\t&lt;line x1=&quot;454.16&quot; y1=&quot;1726.49&quot; x2=&quot;414.19&quot; y2=&quot;1726.49&quot; style=&quot;stroke:#000000;stroke-width:5.76&quot;/&gt;\n",
       "\t&lt;text x=&quot;364.08&quot; y=&quot;1726.49&quot; style=&quot;font-family:&#x27;Helvetica&#x27;;font-size:99.99px;fill:#000000&quot; transform=&quot;rotate(-90 364.08,1726.49)&quot; text-anchor=&quot;middle&quot;&gt;-.05&lt;/text&gt;\n",
       "\t&lt;line x1=&quot;454.16&quot; y1=&quot;1285.06&quot; x2=&quot;414.19&quot; y2=&quot;1285.06&quot; style=&quot;stroke:#000000;stroke-width:5.76&quot;/&gt;\n",
       "\t&lt;text x=&quot;364.08&quot; y=&quot;1285.06&quot; style=&quot;font-family:&#x27;Helvetica&#x27;;font-size:99.99px;fill:#000000&quot; transform=&quot;rotate(-90 364.08,1285.06)&quot; text-anchor=&quot;middle&quot;&gt;0&lt;/text&gt;\n",
       "\t&lt;line x1=&quot;454.16&quot; y1=&quot;843.51&quot; x2=&quot;414.19&quot; y2=&quot;843.51&quot; style=&quot;stroke:#000000;stroke-width:5.76&quot;/&gt;\n",
       "\t&lt;text x=&quot;364.08&quot; y=&quot;843.51&quot; style=&quot;font-family:&#x27;Helvetica&#x27;;font-size:99.99px;fill:#000000&quot; transform=&quot;rotate(-90 364.08,843.51)&quot; text-anchor=&quot;middle&quot;&gt;.05&lt;/text&gt;\n",
       "\t&lt;line x1=&quot;454.16&quot; y1=&quot;402.08&quot; x2=&quot;414.19&quot; y2=&quot;402.08&quot; style=&quot;stroke:#000000;stroke-width:5.76&quot;/&gt;\n",
       "\t&lt;text x=&quot;364.08&quot; y=&quot;402.08&quot; style=&quot;font-family:&#x27;Helvetica&#x27;;font-size:99.99px;fill:#000000&quot; transform=&quot;rotate(-90 364.08,402.08)&quot; text-anchor=&quot;middle&quot;&gt;.1&lt;/text&gt;\n",
       "\t&lt;text x=&quot;254.07&quot; y=&quot;1285.06&quot; style=&quot;font-family:&#x27;Helvetica&#x27;;font-size:99.99px;fill:#000000&quot; transform=&quot;rotate(-90 254.07,1285.06)&quot; text-anchor=&quot;middle&quot;&gt;Factor 2&lt;/text&gt;\n",
       "\t&lt;line x1=&quot;454.16&quot; y1=&quot;2231.28&quot; x2=&quot;3795.66&quot; y2=&quot;2231.28&quot; style=&quot;stroke:#000000;stroke-width:5.76&quot;/&gt;\n",
       "\t&lt;line x1=&quot;517.52&quot; y1=&quot;2231.28&quot; x2=&quot;517.52&quot; y2=&quot;2271.38&quot; style=&quot;stroke:#000000;stroke-width:5.76&quot;/&gt;\n",
       "\t&lt;text x=&quot;517.52&quot; y=&quot;2361.24&quot; style=&quot;font-family:&#x27;Helvetica&#x27;;font-size:99.99px;fill:#000000&quot; text-anchor=&quot;middle&quot;&gt;-.6&lt;/text&gt;\n",
       "\t&lt;line x1=&quot;1133.18&quot; y1=&quot;2231.28&quot; x2=&quot;1133.18&quot; y2=&quot;2271.38&quot; style=&quot;stroke:#000000;stroke-width:5.76&quot;/&gt;\n",
       "\t&lt;text x=&quot;1133.18&quot; y=&quot;2361.24&quot; style=&quot;font-family:&#x27;Helvetica&#x27;;font-size:99.99px;fill:#000000&quot; text-anchor=&quot;middle&quot;&gt;-.4&lt;/text&gt;\n",
       "\t&lt;line x1=&quot;1748.96&quot; y1=&quot;2231.28&quot; x2=&quot;1748.96&quot; y2=&quot;2271.38&quot; style=&quot;stroke:#000000;stroke-width:5.76&quot;/&gt;\n",
       "\t&lt;text x=&quot;1748.96&quot; y=&quot;2361.24&quot; style=&quot;font-family:&#x27;Helvetica&#x27;;font-size:99.99px;fill:#000000&quot; text-anchor=&quot;middle&quot;&gt;-.2&lt;/text&gt;\n",
       "\t&lt;line x1=&quot;2364.61&quot; y1=&quot;2231.28&quot; x2=&quot;2364.61&quot; y2=&quot;2271.38&quot; style=&quot;stroke:#000000;stroke-width:5.76&quot;/&gt;\n",
       "\t&lt;text x=&quot;2364.61&quot; y=&quot;2361.24&quot; style=&quot;font-family:&#x27;Helvetica&#x27;;font-size:99.99px;fill:#000000&quot; text-anchor=&quot;middle&quot;&gt;0&lt;/text&gt;\n",
       "\t&lt;line x1=&quot;2980.39&quot; y1=&quot;2231.28&quot; x2=&quot;2980.39&quot; y2=&quot;2271.38&quot; style=&quot;stroke:#000000;stroke-width:5.76&quot;/&gt;\n",
       "\t&lt;text x=&quot;2980.39&quot; y=&quot;2361.24&quot; style=&quot;font-family:&#x27;Helvetica&#x27;;font-size:99.99px;fill:#000000&quot; text-anchor=&quot;middle&quot;&gt;.2&lt;/text&gt;\n",
       "\t&lt;line x1=&quot;3596.05&quot; y1=&quot;2231.28&quot; x2=&quot;3596.05&quot; y2=&quot;2271.38&quot; style=&quot;stroke:#000000;stroke-width:5.76&quot;/&gt;\n",
       "\t&lt;text x=&quot;3596.05&quot; y=&quot;2361.24&quot; style=&quot;font-family:&#x27;Helvetica&#x27;;font-size:99.99px;fill:#000000&quot; text-anchor=&quot;middle&quot;&gt;.4&lt;/text&gt;\n",
       "\t&lt;text x=&quot;2124.91&quot; y=&quot;2471.25&quot; style=&quot;font-family:&#x27;Helvetica&#x27;;font-size:99.99px;fill:#000000&quot; text-anchor=&quot;middle&quot;&gt;Factor 1&lt;/text&gt;\n",
       "\t&lt;text x=&quot;80.69&quot; y=&quot;2695.32&quot; style=&quot;font-family:&#x27;Helvetica&#x27;;font-size:79.94px;fill:#000000&quot;&gt;Rotation: orthogonal varimax&lt;/text&gt;\n",
       "\t&lt;text x=&quot;80.69&quot; y=&quot;2775.27&quot; style=&quot;font-family:&#x27;Helvetica&#x27;;font-size:79.94px;fill:#000000&quot;&gt;Method: principal factors&lt;/text&gt;\n",
       "\t&lt;text x=&quot;1980.00&quot; y=&quot;178.60&quot; style=&quot;font-family:&#x27;Helvetica&#x27;;font-size:139.96px;fill:#1E2D53&quot; text-anchor=&quot;middle&quot;&gt;Factor loadings&lt;/text&gt;\n",
       "&lt;/svg&gt;\n",
       "</body></html>\"></iframe>\n"
      ],
      "text/plain": [
       "This front-end cannot display the desired image type."
      ]
     },
     "metadata": {
      "image/svg+xml": {
       "height": 436,
       "width": 600
      },
      "text/html": {
       "height": 436,
       "width": 600
      }
     },
     "output_type": "display_data"
    },
    {
     "name": "stdout",
     "output_type": "stream",
     "text": [
      "\n",
      "\n",
      "\n"
     ]
    }
   ],
   "source": [
    "qui factor polissue poletype polescalation govtarget\n",
    "rotate, varimax\n",
    "loadingplot"
   ]
  },
  {
   "cell_type": "markdown",
   "metadata": {},
   "source": [
    "### 4. Calculate the scales and test them in a regression model [1 pt]\n",
    "\n",
    "    A. Generate new scale variables that average all the items in eacj scale.\n",
    "    B. Standardize each scale to be 0-1\n",
    "    C. Estimate separate models that regress your dependent variables on your independent variables 1) using the scale variables, and 2) using the separate component items of the scale variables\n",
    "    D. Output your models (at least 2 models) using esttab so we can easily compare results"
   ]
  },
  {
   "cell_type": "code",
   "execution_count": 12,
   "metadata": {},
   "outputs": [],
   "source": [
    "gen pol_conf1= (polescalation + govtarget + polissue)\n",
    "replace pol_conf1 = pol_conf1-1\n",
    "replace pol_conf1 = pol_conf1/2 if pol_conf !=0"
   ]
  },
  {
   "cell_type": "code",
   "execution_count": 13,
   "metadata": {},
   "outputs": [
    {
     "name": "stdout",
     "output_type": "stream",
     "text": [
      "\n",
      "\n",
      "(5,602 real changes made)\n",
      "\n",
      "(5,602 real changes made)\n"
     ]
    }
   ],
   "source": [
    "gen pol_conf2= (polescalation + polissue)\n",
    "replace pol_conf2 = pol_conf2-1\n",
    "replace pol_conf2 = pol_conf2/2 if pol_conf !=0"
   ]
  },
  {
   "cell_type": "code",
   "execution_count": 19,
   "metadata": {},
   "outputs": [],
   "source": [
    "est clear\n",
    "qui eststo: regress repress polescalation polissue, ro\n",
    "qui eststo: regress repress polescalation polissue govtarget, ro\n",
    "qui eststo: regress repress polescalation polissue govtarget poletype, ro\n",
    "qui eststo: regress repress pol_conf1, ro\n",
    "qui eststo: regress repress pol_conf2, ro"
   ]
  },
  {
   "cell_type": "code",
   "execution_count": 21,
   "metadata": {},
   "outputs": [
    {
     "name": "stdout",
     "output_type": "stream",
     "text": [
      "\n",
      "-------------------------------------------------------------------------------------------------\n",
      "                      (1)              (2)              (3)              (4)              (5)    \n",
      "                Scalevar1        Scalevar2        Scalevar3          Scale 1          Scale 2    \n",
      "-------------------------------------------------------------------------------------------------\n",
      "polescalat~n         0.02             0.01            -0.03                                      \n",
      "                   (0.09)           (0.09)           (0.10)                                      \n",
      "polissue             0.07 ***         0.04 **         -0.02                                      \n",
      "                   (0.02)           (0.01)           (0.02)                                      \n",
      "govtarget                             0.25 ***         0.20 ***                                  \n",
      "                                    (0.01)           (0.01)                                      \n",
      "poletype                                              -0.19 ***                                  \n",
      "                                                     (0.01)                                      \n",
      "pol_conf1                                                               0.29 ***                 \n",
      "                                                                      (0.02)                     \n",
      "pol_conf2                                                                                0.14 ***\n",
      "                                                                                       (0.03)    \n",
      "-------------------------------------------------------------------------------------------------\n",
      "R-Sqaured            0.00             0.06             0.08             0.04             0.00    \n",
      "N                 5602.00          5602.00          5602.00          5602.00          5602.00    \n",
      "-------------------------------------------------------------------------------------------------\n",
      "^ p<.1, * p<.05, ** p<.01, *** p<.001\n"
     ]
    }
   ],
   "source": [
    "esttab ///\n",
    ", stats(r2 N, labels(\"R-Sqaured\" \"N\")) cells(b(star fmt(2)) se(fmt(2) par)) stardetach  ///\n",
    "\tlegend starlevels(^ .1 * .05 ** .01 *** .001) ///\n",
    "mlabels(\"Scalevar1\" \"Scalevar2\" \"Scalevar3\" \"Scale 1\" \"Scale 2\") ///\n",
    "collabels(none) keep(polescalation polissue govtarget pol_conf1 pol_conf2 poletype)"
   ]
  },
  {
   "cell_type": "markdown",
   "metadata": {},
   "source": [
    "### 5. Interpret your regression estimates [1 pt]\n",
    "\n",
    "    A. Which of your hypotheses were supported or rejected?\n",
    "    *The hypothesis of the correlation of multiple variables in a scale of politization of conflict in Latin America was confimed, although not with all the variables first considered\n",
    "    *The hypothesis of the increase of repression in association with the politization of conflict in Latin America is also supported\n",
    "    B. Were the coefficients using your multi-item scales in the same direction as the coefficients for their component variables?\n",
    "    In the regression we compared two versions of the scale and of the variables, either including or excluding government as targets. In all the cases the direction of association kept between the models with single variables and the multi-item scales. In addition, a model with the variables that included political type (the omited variable after the correlation and factoring) is the only one with a variable in a contrary direction, precisely the latter (excluded from the scale).\n",
    "    C. Were the coefficients larger or more statistically significant when you used multi-item scales?\n",
    "    *The coefficients in the multi-item model that excluded government as target, the Scale model 1, are the highest. Besides, the coefficients for political scalation in the models with variables were not significant, so it would not be considered for politization if a scale were not constructed. In the case of the multi-scale model that included government as target, the coefficients are not largert than the variable model including government target, specifically with  the coefficient for this last variable. For this reasons, the preferred model is the Scale 1 model, precisely based in the most firm results of the factor analysis for the independent variable. The results also point to consider the theorization and test of the interactions or intervention of government as a target in a subsequent analysis of repression and politization in recent conflicts in Latin America. "
   ]
  }
 ],
 "metadata": {
  "kernelspec": {
   "display_name": "Stata",
   "language": "stata",
   "name": "stata"
  },
  "language_info": {
   "codemirror_mode": "stata",
   "file_extension": ".do",
   "mimetype": "text/x-stata",
   "name": "stata",
   "version": "15.1"
  }
 },
 "nbformat": 4,
 "nbformat_minor": 4
}
